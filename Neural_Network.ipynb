{
 "cells": [
  {
   "cell_type": "code",
   "execution_count": 84,
   "metadata": {},
   "outputs": [],
   "source": [
    "\n",
    "import numpy as np\n",
    "import matplotlib.pyplot as plt\n",
    "import gzip\n",
    "# Used for Loading MNIST\n",
    "from struct import unpack\n"
   ]
  },
  {
   "cell_type": "markdown",
   "metadata": {},
   "source": [
    "# Data Modelling"
   ]
  },
  {
   "cell_type": "code",
   "execution_count": 85,
   "metadata": {},
   "outputs": [],
   "source": [
    "\n",
    "# https://gist.github.com/mGalarnyk/aa79813d7ecb0049c7b926d53f588ae1\n",
    "def loadmnist(imagefile, labelfile):\n",
    "\n",
    "    # Open the images with gzip in read binary mode\n",
    "    images = gzip.open(imagefile, 'rb')\n",
    "    labels = gzip.open(labelfile, 'rb')\n",
    "\n",
    "    # Get metadata for images\n",
    "    images.read(4)  # skip the magic_number\n",
    "    number_of_images = images.read(4)\n",
    "    number_of_images = unpack('>I', number_of_images)[0]\n",
    "    rows = images.read(4)\n",
    "    rows = unpack('>I', rows)[0]\n",
    "    cols = images.read(4)\n",
    "    cols = unpack('>I', cols)[0]\n",
    "\n",
    "    # Get metadata for labels\n",
    "    labels.read(4)\n",
    "    N = labels.read(4)\n",
    "    N = unpack('>I', N)[0]\n",
    "\n",
    "    # Get data\n",
    "    x = np.zeros((N, rows*cols), dtype=np.uint8)  # Initialize numpy array\n",
    "    y = np.zeros(N, dtype=np.uint8)  # Initialize numpy array\n",
    "    for i in range(N):\n",
    "        for j in range(rows*cols):\n",
    "            tmp_pixel = images.read(1)  # Just a single byte\n",
    "            tmp_pixel = unpack('>B', tmp_pixel)[0]\n",
    "            x[i][j] = tmp_pixel\n",
    "        tmp_label = labels.read(1)\n",
    "        y[i] = unpack('>B', tmp_label)[0]\n",
    "\n",
    "    images.close()\n",
    "    labels.close()\n",
    "    return (x, y)\n"
   ]
  },
  {
   "cell_type": "code",
   "execution_count": 86,
   "metadata": {},
   "outputs": [],
   "source": [
    "def replaceZeroes(data):\n",
    "    min_nonzero = min(data[np.nonzero(data)]) \n",
    "    data[data == 0] = min_nonzero\n",
    "    return data\n"
   ]
  },
  {
   "cell_type": "code",
   "execution_count": 87,
   "metadata": {},
   "outputs": [],
   "source": [
    "train_img, train_lbl = loadmnist(\n",
    "    'data/train-images-idx3-ubyte.gz', 'data/train-labels-idx1-ubyte.gz')\n",
    "test_img, test_lbl = loadmnist(\n",
    "    'data/t10k-images-idx3-ubyte.gz', 'data/t10k-labels-idx1-ubyte.gz')"
   ]
  },
  {
   "cell_type": "code",
   "execution_count": 6,
   "metadata": {},
   "outputs": [
    {
     "name": "stdout",
     "output_type": "stream",
     "text": [
      "(60000, 784)\n"
     ]
    }
   ],
   "source": [
    "print(train_img.shape)"
   ]
  },
  {
   "cell_type": "code",
   "execution_count": 7,
   "metadata": {},
   "outputs": [
    {
     "name": "stdout",
     "output_type": "stream",
     "text": [
      "(60000,)\n"
     ]
    }
   ],
   "source": [
    "print(train_lbl.shape)"
   ]
  },
  {
   "cell_type": "code",
   "execution_count": 8,
   "metadata": {},
   "outputs": [
    {
     "name": "stdout",
     "output_type": "stream",
     "text": [
      "(10000, 784)\n"
     ]
    }
   ],
   "source": [
    "print(test_img.shape)"
   ]
  },
  {
   "cell_type": "code",
   "execution_count": 9,
   "metadata": {},
   "outputs": [
    {
     "name": "stdout",
     "output_type": "stream",
     "text": [
      "(10000,)\n"
     ]
    }
   ],
   "source": [
    "print(test_lbl.shape)"
   ]
  },
  {
   "cell_type": "code",
   "execution_count": 10,
   "metadata": {},
   "outputs": [
    {
     "data": {
      "image/png": "[encoded data removed]",
      "text/plain": [
       "<Figure size 1440x288 with 5 Axes>"
      ]
     },
     "metadata": {
      "needs_background": "light"
     },
     "output_type": "display_data"
    }
   ],
   "source": [
    "plt.figure(figsize=(20, 4))\n",
    "for index, (image, label) in enumerate(zip(train_img[0:5], train_lbl[0:5])):\n",
    "    plt.subplot(1, 5, index + 1)\n",
    "    plt.imshow(np.reshape(image, (28, 28)), cmap=plt.cm.gray)\n",
    "    plt.title('Training: %i\\n' % label, fontsize=20)\n"
   ]
  },
  {
   "cell_type": "code",
   "execution_count": 88,
   "metadata": {},
   "outputs": [
    {
     "name": "stdout",
     "output_type": "stream",
     "text": [
      "[  0   0   0   0   0   0   0   0   0   0   0   0   0   0   0   0   0   0\n",
      "   0   0   0   0   0   0   0   0   0   0   0   0   0   0   0   0   0   0\n",
      "   0   0   0   0   0   0   0   0   0   0   0   0   0   0   0   0   0   0\n",
      "   0   0   0   0   0   0   0   0   0   0   0   0   0   0   0   0   0   0\n",
      "   0   0   0   0   0   0   0   0   0   0   0   0   0   0   0   0   0   0\n",
      "   0   0   0   0   0   0   0   0   0   0   0   0   0   0   0   0   0   0\n",
      "   0   0   0   0   0   0   0   0   0   0   0   0   0   0   0   0   0   0\n",
      "   0   0   0   0   0   0   0   0   0   0   0   0   0   0   0   0   0   0\n",
      "   0   0   0   0   0   0   0   0   3  18  18  18 126 136 175  26 166 255\n",
      " 247 127   0   0   0   0   0   0   0   0   0   0   0   0  30  36  94 154\n",
      " 170 253 253 253 253 253 225 172 253 242 195  64   0   0   0   0   0   0\n",
      "   0   0   0   0   0  49 238 253 253 253 253 253 253 253 253 251  93  82\n",
      "  82  56  39   0   0   0   0   0   0   0   0   0   0   0   0  18 219 253\n",
      " 253 253 253 253 198 182 247 241   0   0   0   0   0   0   0   0   0   0\n",
      "   0   0   0   0   0   0   0   0  80 156 107 253 253 205  11   0  43 154\n",
      "   0   0   0   0   0   0   0   0   0   0   0   0   0   0   0   0   0   0\n",
      "   0  14   1 154 253  90   0   0   0   0   0   0   0   0   0   0   0   0\n",
      "   0   0   0   0   0   0   0   0   0   0   0   0   0 139 253 190   2   0\n",
      "   0   0   0   0   0   0   0   0   0   0   0   0   0   0   0   0   0   0\n",
      "   0   0   0   0   0  11 190 253  70   0   0   0   0   0   0   0   0   0\n",
      "   0   0   0   0   0   0   0   0   0   0   0   0   0   0   0   0  35 241\n",
      " 225 160 108   1   0   0   0   0   0   0   0   0   0   0   0   0   0   0\n",
      "   0   0   0   0   0   0   0   0   0  81 240 253 253 119  25   0   0   0\n",
      "   0   0   0   0   0   0   0   0   0   0   0   0   0   0   0   0   0   0\n",
      "   0   0  45 186 253 253 150  27   0   0   0   0   0   0   0   0   0   0\n",
      "   0   0   0   0   0   0   0   0   0   0   0   0   0  16  93 252 253 187\n",
      "   0   0   0   0   0   0   0   0   0   0   0   0   0   0   0   0   0   0\n",
      "   0   0   0   0   0   0   0 249 253 249  64   0   0   0   0   0   0   0\n",
      "   0   0   0   0   0   0   0   0   0   0   0   0   0   0  46 130 183 253\n",
      " 253 207   2   0   0   0   0   0   0   0   0   0   0   0   0   0   0   0\n",
      "   0   0   0   0  39 148 229 253 253 253 250 182   0   0   0   0   0   0\n",
      "   0   0   0   0   0   0   0   0   0   0   0   0  24 114 221 253 253 253\n",
      " 253 201  78   0   0   0   0   0   0   0   0   0   0   0   0   0   0   0\n",
      "   0   0  23  66 213 253 253 253 253 198  81   2   0   0   0   0   0   0\n",
      "   0   0   0   0   0   0   0   0   0   0  18 171 219 253 253 253 253 195\n",
      "  80   9   0   0   0   0   0   0   0   0   0   0   0   0   0   0   0   0\n",
      "  55 172 226 253 253 253 253 244 133  11   0   0   0   0   0   0   0   0\n",
      "   0   0   0   0   0   0   0   0   0   0 136 253 253 253 212 135 132  16\n",
      "   0   0   0   0   0   0   0   0   0   0   0   0   0   0   0   0   0   0\n",
      "   0   0   0   0   0   0   0   0   0   0   0   0   0   0   0   0   0   0\n",
      "   0   0   0   0   0   0   0   0   0   0   0   0   0   0   0   0   0   0\n",
      "   0   0   0   0   0   0   0   0   0   0   0   0   0   0   0   0   0   0\n",
      "   0   0   0   0   0   0   0   0   0   0   0   0   0   0   0   0   0   0\n",
      "   0   0   0   0   0   0   0   0   0   0]\n"
     ]
    }
   ],
   "source": [
    "# This is how the computer sees the number 5\n",
    "print(train_img[0])"
   ]
  },
  {
   "cell_type": "markdown",
   "metadata": {},
   "source": [
    "# Neural Networks"
   ]
  },
  {
   "cell_type": "code",
   "execution_count": 465,
   "metadata": {},
   "outputs": [],
   "source": [
    "def neural_network(n_layer1, epochs, eta):\n",
    "    sizes = [len(train_img[0]), n_layer1, 10]\n",
    "\n",
    "    train_img_norm = train_img/255\n",
    "    test_img_norm = test_img/255\n",
    "\n",
    "    layers = []\n",
    "\n",
    "    for i in range(len(sizes)-1):\n",
    "        layer = np.random.uniform(-1.,1.,size=(sizes[i], sizes[i+1]))/np.sqrt(sizes[i]*sizes[i+1])\n",
    "        print(\"Layer\", i+1, \":\", layer.shape)\n",
    "        layers.append(layer)\n",
    "\n",
    "    def sigmoid(z):\n",
    "        return 1/(1 + np.exp(-z))\n",
    "\n",
    "    def d_sigmoid(z):\n",
    "        return (np.exp(-z))/((1 + np.exp(-z))**2)\n",
    "    \n",
    "    def tanh(z):\n",
    "        return (np.exp(z) - np.exp(-z))/(np.exp(z) + np.exp(-z))\n",
    "    \n",
    "    def d_tanh(z):\n",
    "        return 1 - tanh(z)**2\n",
    "\n",
    "    def softmax(z):\n",
    "        exp = np.exp(z - z.max())\n",
    "        return exp/np.sum(exp, axis=0)\n",
    "\n",
    "    def d_softmax(z):\n",
    "        exp = np.exp(z - z.max())\n",
    "        return exp/np.sum(exp,axis=0)*(1-exp/np.sum(exp,axis=0))\n",
    "\n",
    "    def forward_backward_pass(X_input, target):\n",
    "        targets = np.array([[1 if i == target[j] else 0 for i in range(len(layers[-1][0]))] for j in range(target.shape[0])])\n",
    "\n",
    "        x_s = [X_input]\n",
    "        x_l = []\n",
    "        for i in range(len(layers)):\n",
    "            x_l.append(x_s[i].dot(layers[i]))\n",
    "            if i != len(layers)-1:\n",
    "                x_s.append(tanh(x_l[i]))\n",
    "            else:\n",
    "                x_s.append(softmax(x_l[i].T).T)\n",
    "\n",
    "        error = 2 * (x_s[-1] - targets) / x_s[-1].shape[0] * (d_softmax(x_l[-1].T).T)\n",
    "        update_l = [(x_s[-2].T@error)]   \n",
    "        for i in range(len(layers)-1, 0, -1):\n",
    "            error = ((layers[i]).dot(error.T)).T*d_tanh(x_l[i-1])\n",
    "            update_l.insert(0, x_s[i-1].T@error)\n",
    "\n",
    "        return (x_s[i-1], update_l)\n",
    "\n",
    "\n",
    "\n",
    "    count = 0\n",
    "    accuracies = []\n",
    "    for i_ in range(epochs-1):\n",
    "        count += 1\n",
    "        if count%500 == 0:\n",
    "            cur_out = test_img\n",
    "            for i in range(len(layers)-1):\n",
    "                cur_out = sigmoid(cur_out.dot(layers[i]))\n",
    "            out = np.argmax(softmax(cur_out.dot(layers[-1])), axis=1)\n",
    "            acc = (out == test_lbl).mean()\n",
    "            accuracies.append(acc)\n",
    "            print(\"Epochs:\", count)\n",
    "            print(\"Current accuracy with test set:\", acc)\n",
    "\n",
    "\n",
    "        sample_index = np.random.choice(len(train_img_norm), 128)\n",
    "\n",
    "        out, update_l = forward_backward_pass(train_img[sample_index].reshape(-1, 28*28), train_lbl[sample_index])\n",
    "        for i in range(len(layers)):\n",
    "            layers[i] -=  eta*update_l[i]\n",
    "\n",
    "    cur_out = test_img\n",
    "    for i in range(len(layers)-1):\n",
    "        cur_out = sigmoid(cur_out.dot(layers[i]))\n",
    "    out = np.argmax(softmax(cur_out.dot(layers[-1])), axis=1)\n",
    "    acc = (out == test_lbl).mean()\n",
    "    accuracies.append(acc)\n",
    "    return (accuracies, out)"
   ]
  },
  {
   "cell_type": "code",
   "execution_count": 466,
   "metadata": {},
   "outputs": [
    {
     "name": "stdout",
     "output_type": "stream",
     "text": [
      "Layer 1 : (784, 350)\n",
      "Layer 2 : (350, 10)\n",
      "Epochs: 500\n",
      "Current accuracy with test set: 0.9335\n",
      "Epochs: 1000\n",
      "Current accuracy with test set: 0.9435\n",
      "Epochs: 1500\n",
      "Current accuracy with test set: 0.9466\n",
      "Epochs: 2000\n",
      "Current accuracy with test set: 0.9502\n",
      "Epochs: 2500\n",
      "Current accuracy with test set: 0.9545\n",
      "Epochs: 3000\n",
      "Current accuracy with test set: 0.9555\n",
      "Epochs: 3500\n",
      "Current accuracy with test set: 0.9555\n",
      "Epochs: 4000\n",
      "Current accuracy with test set: 0.9585\n",
      "Epochs: 4500\n",
      "Current accuracy with test set: 0.9596\n",
      "Epochs: 5000\n",
      "Current accuracy with test set: 0.9621\n",
      "Epochs: 5500\n",
      "Current accuracy with test set: 0.9627\n",
      "Epochs: 6000\n",
      "Current accuracy with test set: 0.9625\n",
      "Epochs: 6500\n",
      "Current accuracy with test set: 0.9644\n",
      "Epochs: 7000\n",
      "Current accuracy with test set: 0.9642\n",
      "Epochs: 7500\n",
      "Current accuracy with test set: 0.9652\n",
      "Epochs: 8000\n",
      "Current accuracy with test set: 0.9643\n",
      "Epochs: 8500\n",
      "Current accuracy with test set: 0.9663\n",
      "Epochs: 9000\n",
      "Current accuracy with test set: 0.9655\n",
      "Epochs: 9500\n",
      "Current accuracy with test set: 0.9662\n"
     ]
    }
   ],
   "source": [
    "#n_layers = [5, 10, 20, 50, 100, 200, 500, 1000, 2000]\n",
    "#n_layers = [100, 150, 200, 250, 300, 350, 400]\n",
    "n_layers = [350]\n",
    "for n_l in n_layers:\n",
    "    accuracies, prediction = neural_network(n_l, epochs=10000, eta=0.005)"
   ]
  },
  {
   "cell_type": "code",
   "execution_count": 470,
   "metadata": {},
   "outputs": [
    {
     "data": {
      "image/png": "[encoded data removed]",
      "text/plain": [
       "<Figure size 432x288 with 1 Axes>"
      ]
     },
     "metadata": {
      "needs_background": "light"
     },
     "output_type": "display_data"
    }
   ],
   "source": [
    "plt.figure()\n",
    "plt.plot([500*i for i in range(1, int(10000/500)+1)], accuracies)\n",
    "plt.xlabel(\"Epochs\")\n",
    "plt.ylabel(\"Accuracy\")\n",
    "plt.show()"
   ]
  },
  {
   "cell_type": "markdown",
   "metadata": {},
   "source": [
    "## Confusion Matrix"
   ]
  },
  {
   "cell_type": "code",
   "execution_count": 473,
   "metadata": {},
   "outputs": [],
   "source": [
    "import seaborn as sns"
   ]
  },
  {
   "cell_type": "code",
   "execution_count": 474,
   "metadata": {},
   "outputs": [],
   "source": [
    "def nn_confusion_matrix(prediction, actual):\n",
    "    cm = np.zeros(shape=(10,10))\n",
    "    for i in range(len(prediction)):\n",
    "        cm[actual[i]][prediction[i]] += 1/np.count_nonzero(actual == actual[i])\n",
    "    return cm"
   ]
  },
  {
   "cell_type": "code",
   "execution_count": 475,
   "metadata": {},
   "outputs": [
    {
     "data": {
      "image/png": "[encoded data removed]",
      "text/plain": [
       "<Figure size 648x648 with 2 Axes>"
      ]
     },
     "metadata": {
      "needs_background": "light"
     },
     "output_type": "display_data"
    }
   ],
   "source": [
    "cm = nn_confusion_matrix(prediction, test_lbl)\n",
    "plt.figure(figsize=(9, 9))\n",
    "sns.heatmap(cm, annot=True, fmt=\".3f\",\n",
    "            linewidths=.5, square=True, cmap='RdYlGn')\n",
    "plt.ylabel('Actual label')\n",
    "plt.xlabel('Predicted label')\n",
    "all_sample_title = 'Accuracy Score: {:.3f}'.format(max_accuracies[-1])\n",
    "plt.title(all_sample_title, size=15)\n",
    "plt.show()"
   ]
  }
 ],
 "metadata": {
  "interpreter": {
   "hash": "303ff23b4384eeeccc8439d59d595ef4ad8970aebfefad0b5f62ae1562bbfaad"
  },
  "kernelspec": {
   "display_name": "Python 3",
   "language": "python",
   "name": "python3"
  },
  "language_info": {
   "codemirror_mode": {
    "name": "ipython",
    "version": 3
   },
   "file_extension": ".py",
   "mimetype": "text/x-python",
   "name": "python",
   "nbconvert_exporter": "python",
   "pygments_lexer": "ipython3",
   "version": "3.8.5"
  }
 },
 "nbformat": 4,
 "nbformat_minor": 4
}
