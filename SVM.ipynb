{
 "cells": [
  {
   "cell_type": "code",
   "execution_count": 22,
   "id": "bfdd5b3d",
   "metadata": {},
   "outputs": [],
   "source": [
    "from keras.datasets import mnist\n",
    "from matplotlib import pyplot\n",
    "from sklearn import metrics\n",
    "from sklearn import svm\n",
    "from sklearn.svm import SVC\n",
    "from sklearn.model_selection import GridSearchCV\n",
    "from sklearn.metrics import confusion_matrix\n",
    "import seaborn as sns"
   ]
  },
  {
   "cell_type": "code",
   "execution_count": 23,
   "id": "ffe899f5",
   "metadata": {},
   "outputs": [],
   "source": [
    "# Data modelling\n",
    "(x_train, y_train), (x_test, y_test) = mnist.load_data()\n",
    "\n",
    "x_train = x_train.reshape(60000, 784)\n",
    "x_test = x_test.reshape(10000, 784)\n",
    "\n",
    "x_train = x_train.astype('float32')\n",
    "x_test = x_test.astype('float32')\n",
    "\n",
    "x_train = x_train / 255.0*100 - 50\n",
    "x_test = x_test / 255.0*100 - 50\n",
    "\n",
    "y_train =y_train % 2\n",
    "y_test =y_test % 2"
   ]
  },
  {
   "cell_type": "code",
   "execution_count": 24,
   "id": "1ef42687",
   "metadata": {
    "scrolled": true
   },
   "outputs": [
    {
     "name": "stdout",
     "output_type": "stream",
     "text": [
      "60000 Train Samples\n",
      "10000 Test Samples\n",
      "X_train: (60000, 784)\n",
      "Y_train: (60000,)\n",
      "X_test:  (10000, 784)\n",
      "Y_test:  (10000,)\n"
     ]
    }
   ],
   "source": [
    "print(x_train.shape[0], 'Train Samples')\n",
    "print(x_test.shape[0], 'Test Samples')\n",
    "\n",
    "print('X_train: ' + str(x_train.shape))\n",
    "print('Y_train: ' + str(y_train.shape))\n",
    "print('X_test:  '  + str(x_test.shape))\n",
    "print('Y_test:  '  + str(y_test.shape))\n"
   ]
  },
  {
   "cell_type": "code",
   "execution_count": 25,
   "id": "daf6f7e9",
   "metadata": {
    "scrolled": true
   },
   "outputs": [
    {
     "name": "stdout",
     "output_type": "stream",
     "text": [
      "Grid Search\n",
      "Grid Fit\n",
      "Fitting 5 folds for each of 8 candidates, totalling 40 fits\n",
      "[CV 1/5] END ......C=1, gamma=0.001, kernel=rbf;, score=0.509 total time=  27.4s\n",
      "[CV 2/5] END ......C=1, gamma=0.001, kernel=rbf;, score=0.509 total time=  28.2s\n",
      "[CV 3/5] END ......C=1, gamma=0.001, kernel=rbf;, score=0.509 total time=  27.6s\n",
      "[CV 4/5] END ......C=1, gamma=0.001, kernel=rbf;, score=0.509 total time=  27.7s\n",
      "[CV 5/5] END ......C=1, gamma=0.001, kernel=rbf;, score=0.508 total time=  27.7s\n",
      "[CV 1/5] END .....C=1, gamma=0.0001, kernel=rbf;, score=0.509 total time=  26.4s\n",
      "[CV 2/5] END .....C=1, gamma=0.0001, kernel=rbf;, score=0.509 total time=  26.2s\n",
      "[CV 3/5] END .....C=1, gamma=0.0001, kernel=rbf;, score=0.509 total time=  26.2s\n",
      "[CV 4/5] END .....C=1, gamma=0.0001, kernel=rbf;, score=0.509 total time=  26.4s\n",
      "[CV 5/5] END .....C=1, gamma=0.0001, kernel=rbf;, score=0.508 total time=  26.6s\n",
      "[CV 1/5] END .....C=10, gamma=0.001, kernel=rbf;, score=0.509 total time=  28.7s\n",
      "[CV 2/5] END .....C=10, gamma=0.001, kernel=rbf;, score=0.509 total time=  28.3s\n",
      "[CV 3/5] END .....C=10, gamma=0.001, kernel=rbf;, score=0.509 total time=  27.9s\n",
      "[CV 4/5] END .....C=10, gamma=0.001, kernel=rbf;, score=0.509 total time=  27.5s\n",
      "[CV 5/5] END .....C=10, gamma=0.001, kernel=rbf;, score=0.508 total time=  28.8s\n",
      "[CV 1/5] END ....C=10, gamma=0.0001, kernel=rbf;, score=0.509 total time=  26.0s\n",
      "[CV 2/5] END ....C=10, gamma=0.0001, kernel=rbf;, score=0.509 total time=  25.7s\n",
      "[CV 3/5] END ....C=10, gamma=0.0001, kernel=rbf;, score=0.509 total time=  25.9s\n",
      "[CV 4/5] END ....C=10, gamma=0.0001, kernel=rbf;, score=0.509 total time=  26.0s\n",
      "[CV 5/5] END ....C=10, gamma=0.0001, kernel=rbf;, score=0.508 total time=  27.6s\n",
      "[CV 1/5] END ....C=100, gamma=0.001, kernel=rbf;, score=0.509 total time=  27.5s\n",
      "[CV 2/5] END ....C=100, gamma=0.001, kernel=rbf;, score=0.509 total time=  28.7s\n",
      "[CV 3/5] END ....C=100, gamma=0.001, kernel=rbf;, score=0.509 total time=  28.4s\n",
      "[CV 4/5] END ....C=100, gamma=0.001, kernel=rbf;, score=0.509 total time=  29.1s\n",
      "[CV 5/5] END ....C=100, gamma=0.001, kernel=rbf;, score=0.508 total time=  28.8s\n",
      "[CV 1/5] END ...C=100, gamma=0.0001, kernel=rbf;, score=0.509 total time=  26.1s\n",
      "[CV 2/5] END ...C=100, gamma=0.0001, kernel=rbf;, score=0.509 total time=  27.9s\n",
      "[CV 3/5] END ...C=100, gamma=0.0001, kernel=rbf;, score=0.509 total time=  26.3s\n",
      "[CV 4/5] END ...C=100, gamma=0.0001, kernel=rbf;, score=0.509 total time=  26.0s\n",
      "[CV 5/5] END ...C=100, gamma=0.0001, kernel=rbf;, score=0.508 total time=  25.7s\n",
      "[CV 1/5] END ...C=1000, gamma=0.001, kernel=rbf;, score=0.509 total time=  27.6s\n",
      "[CV 2/5] END ...C=1000, gamma=0.001, kernel=rbf;, score=0.509 total time=  27.5s\n",
      "[CV 3/5] END ...C=1000, gamma=0.001, kernel=rbf;, score=0.509 total time=  28.0s\n",
      "[CV 4/5] END ...C=1000, gamma=0.001, kernel=rbf;, score=0.509 total time=  27.6s\n",
      "[CV 5/5] END ...C=1000, gamma=0.001, kernel=rbf;, score=0.508 total time=  27.7s\n",
      "[CV 1/5] END ..C=1000, gamma=0.0001, kernel=rbf;, score=0.509 total time=  26.0s\n",
      "[CV 2/5] END ..C=1000, gamma=0.0001, kernel=rbf;, score=0.509 total time=  27.0s\n",
      "[CV 3/5] END ..C=1000, gamma=0.0001, kernel=rbf;, score=0.509 total time=  25.8s\n",
      "[CV 4/5] END ..C=1000, gamma=0.0001, kernel=rbf;, score=0.509 total time=  25.9s\n",
      "[CV 5/5] END ..C=1000, gamma=0.0001, kernel=rbf;, score=0.508 total time=  26.0s\n",
      "Grid Completed\n",
      "{'C': 10, 'gamma': 0.0001, 'kernel': 'rbf'}\n",
      "Training SVM\n",
      "SVM Completed\n",
      "Testing\n",
      "score:  0.589\n"
     ]
    }
   ],
   "source": [
    "# Grid Search\n",
    "svm = SVC()\n",
    "parameters = [{'kernel': ['rbf'], 'gamma': [1e-3, 1e-4],\n",
    "                     'C': [1, 10, 100, 1000]}]\n",
    "                    #{'kernel': ['linear'], 'C': [1, 10, 100, 1000]}]\n",
    "\n",
    "print(\"Grid Search\")\n",
    "grid = GridSearchCV(svm, parameters, verbose=3)\n",
    "print(\"Grid Fit\")\n",
    "grid.fit(x_train[0:7000], y_train[0:7000]) \n",
    "print(\"Grid Completed\")\n",
    "print (grid.best_params_)\n",
    "\n",
    "#Train SVM\n",
    "print(\"Training SVM\")\n",
    "best_svm = grid.best_estimator_\n",
    "best_svm.fit(x_train , y_train)\n",
    "print(\"SVM Completed\")\n",
    "\n",
    "print(\"Testing\")\n",
    "print(\"score: \", best_svm.score(x_test, y_test,))"
   ]
  },
  {
   "cell_type": "code",
   "execution_count": null,
   "id": "1e3beb4b",
   "metadata": {},
   "outputs": [],
   "source": []
  }
 ],
 "metadata": {
  "kernelspec": {
   "display_name": "Python 3 (ipykernel)",
   "language": "python",
   "name": "python3"
  },
  "language_info": {
   "codemirror_mode": {
    "name": "ipython",
    "version": 3
   },
   "file_extension": ".py",
   "mimetype": "text/x-python",
   "name": "python",
   "nbconvert_exporter": "python",
   "pygments_lexer": "ipython3",
   "version": "3.10.0"
  }
 },
 "nbformat": 4,
 "nbformat_minor": 5
}
